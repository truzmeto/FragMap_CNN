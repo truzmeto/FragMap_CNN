{
 "cells": [
  {
   "cell_type": "markdown",
   "metadata": {},
   "source": [
    "# FragMap_CNN Tutorial"
   ]
  },
  {
   "cell_type": "markdown",
   "metadata": {},
   "source": [
    "###TODO:\n",
    "Need to prepare a simple tutorial markdown(.md), where we simply demonstrate what is being done here, including all functionalities, visualizations etc. Unit tests have perfect examples. The best way to do this would be using .ipynb and save it as .md file"
   ]
  },
  {
   "cell_type": "markdown",
   "metadata": {},
   "source": [
    "## Objective:\n",
    "Demonstrate functionalities and visualizations using `unit/` directory, which contains python unit tests."
   ]
  },
  {
   "cell_type": "markdown",
   "metadata": {},
   "source": [
    "### Main Requirements:\n",
    "- `pytorch` neural net learning framework\n",
    "- `torchproteinlibrary` lib for handling 3D protein data\n",
    "- `pyvista` for simple unit tests"
   ]
  },
  {
   "cell_type": "code",
   "execution_count": 1,
   "metadata": {},
   "outputs": [],
   "source": [
    "import os\n",
    "import sys\n",
    "import torch.nn as nn\n",
    "import torch.nn.functional as F\n",
    "import torch\n",
    "import numpy as np\n",
    "import pyvista as pv\n",
    "\n",
    "from torchsummary import summary"
   ]
  },
  {
   "cell_type": "code",
   "execution_count": 2,
   "metadata": {},
   "outputs": [
    {
     "name": "stdout",
     "output_type": "stream",
     "text": [
      "Fri Dec 13 21:53:42 2019       \n",
      "+-----------------------------------------------------------------------------+\n",
      "| NVIDIA-SMI 430.26       Driver Version: 430.26       CUDA Version: 10.2     |\n",
      "|-------------------------------+----------------------+----------------------+\n",
      "| GPU  Name        Persistence-M| Bus-Id        Disp.A | Volatile Uncorr. ECC |\n",
      "| Fan  Temp  Perf  Pwr:Usage/Cap|         Memory-Usage | GPU-Util  Compute M. |\n",
      "|===============================+======================+======================|\n",
      "|   0  Tesla P100-PCIE...  On   | 00000000:58:00.0 Off |                    0 |\n",
      "| N/A   72C    P0   172W / 250W |   2982MiB / 12198MiB |     96%      Default |\n",
      "+-------------------------------+----------------------+----------------------+\n",
      "|   1  Tesla P100-PCIE...  On   | 00000000:D8:00.0 Off |                    0 |\n",
      "| N/A   70C    P0   165W / 250W |   1409MiB / 12198MiB |     96%      Default |\n",
      "+-------------------------------+----------------------+----------------------+\n",
      "                                                                               \n",
      "+-----------------------------------------------------------------------------+\n",
      "| Processes:                                                       GPU Memory |\n",
      "|  GPU       PID   Type   Process name                             Usage      |\n",
      "|=============================================================================|\n",
      "|    0     26966      C   python                                      1573MiB |\n",
      "|    0    219910      C   ...b/YorkGroup/Amber18_lbsr/bin/pmemd.cuda  1399MiB |\n",
      "|    1    219936      C   ...b/YorkGroup/Amber18_lbsr/bin/pmemd.cuda  1399MiB |\n",
      "+-----------------------------------------------------------------------------+\n"
     ]
    }
   ],
   "source": [
    "!nvidia-smi"
   ]
  },
  {
   "cell_type": "code",
   "execution_count": 3,
   "metadata": {},
   "outputs": [
    {
     "name": "stdout",
     "output_type": "stream",
     "text": [
      "/opt/sw/packages/cuda/10.0/bin/nvcc\n",
      "/projects/community/gcc/7.3.0/gc563/bin/gcc\n",
      "pytorch                   1.2.0           py3.7_cuda10.0.130_cudnn7.6.2_0    pytorch\n",
      "torchproteinlibrary       0.1                      pypi_0    pypi\n",
      "torchsummary              1.5.1                    pypi_0    pypi\n",
      "torchvision               0.4.0                py37_cu100    pytorch\n"
     ]
    }
   ],
   "source": [
    "!which nvcc\n",
    "!which gcc\n",
    "!conda list | grep torch"
   ]
  },
  {
   "cell_type": "code",
   "execution_count": 4,
   "metadata": {},
   "outputs": [
    {
     "name": "stdout",
     "output_type": "stream",
     "text": [
      "# conda environments:\n",
      "#\n",
      "base                  *  /home/sb1638/anaconda3\n",
      "\n"
     ]
    }
   ],
   "source": [
    "!conda env list"
   ]
  },
  {
   "cell_type": "code",
   "execution_count": 5,
   "metadata": {
    "jupyter": {
     "source_hidden": true
    }
   },
   "outputs": [
    {
     "name": "stdout",
     "output_type": "stream",
     "text": [
      "Error: Can't open display: \n"
     ]
    }
   ],
   "source": [
    "!xclock"
   ]
  },
  {
   "cell_type": "code",
   "execution_count": 6,
   "metadata": {},
   "outputs": [
    {
     "name": "stdout",
     "output_type": "stream",
     "text": [
      "             JOBID PARTITION     NAME     USER ST       TIME  NODES NODELIST(REASON)\n",
      "          77364191      main   m_jupy   sb1638  R    2:47:53      1 pascal010\n"
     ]
    }
   ],
   "source": [
    "!squeue -u sb1638"
   ]
  },
  {
   "cell_type": "code",
   "execution_count": 7,
   "metadata": {},
   "outputs": [],
   "source": [
    "cur_dev = torch.cuda.current_device()"
   ]
  },
  {
   "cell_type": "code",
   "execution_count": 8,
   "metadata": {},
   "outputs": [
    {
     "data": {
      "text/plain": [
       "'Tesla P100-PCIE-12GB'"
      ]
     },
     "execution_count": 8,
     "metadata": {},
     "output_type": "execute_result"
    }
   ],
   "source": [
    "torch.cuda.get_device_name(cur_dev)"
   ]
  },
  {
   "cell_type": "markdown",
   "metadata": {},
   "source": [
    "### Files"
   ]
  },
  {
   "cell_type": "code",
   "execution_count": 9,
   "metadata": {},
   "outputs": [
    {
     "name": "stdout",
     "output_type": "stream",
     "text": [
      "augment.py  cnn.py  mapIO.py  rot.py  target.py  util.py  volume.py\n"
     ]
    }
   ],
   "source": [
    "!ls unit"
   ]
  },
  {
   "cell_type": "markdown",
   "metadata": {},
   "source": [
    "### Step 0: Build the CNN"
   ]
  },
  {
   "cell_type": "markdown",
   "metadata": {},
   "source": [
    "`src/cnn.py` is imported as:\n",
    "```python\n",
    "from src.cnn import CnnModel, count_parameter\n",
    "```\n",
    "This code builds the CNN model using pytorch. "
   ]
  },
  {
   "cell_type": "markdown",
   "metadata": {},
   "source": [
    "Structure:\n",
    "- 4 convolutional layers\n",
    "- Input -> output halved each convolution\n",
    "- E.g. 48 in -> 24 out, 24 in -> 12 out... etc\n",
    "\n",
    "Initialized parameters:\n",
    "\n",
    "- Correct the dimensions of 3D input (pad rectangular boxes to cubic boxes)\n",
    "- 3D CNN input/output channels, kernal size, and padding; per each layer.\n"
   ]
  },
  {
   "cell_type": "markdown",
   "metadata": {},
   "source": [
    "### cnn.py example:"
   ]
  },
  {
   "cell_type": "code",
   "execution_count": 10,
   "metadata": {},
   "outputs": [],
   "source": [
    "from src.cnn import CnnModel, count_parameters"
   ]
  },
  {
   "cell_type": "markdown",
   "metadata": {},
   "source": [
    "#### Initialize 11 input channels and depth, width, height"
   ]
  },
  {
   "cell_type": "code",
   "execution_count": 11,
   "metadata": {},
   "outputs": [
    {
     "data": {
      "text/plain": [
       "<torch._C.Generator at 0x7fb5081a1670>"
      ]
     },
     "execution_count": 11,
     "metadata": {},
     "output_type": "execute_result"
    }
   ],
   "source": [
    "c, d, h, w = 11, 20, 20, 20\n",
    "torch.manual_seed(3000)"
   ]
  },
  {
   "cell_type": "markdown",
   "metadata": {},
   "source": [
    "#### Generate some random data"
   ]
  },
  {
   "cell_type": "code",
   "execution_count": 12,
   "metadata": {},
   "outputs": [
    {
     "name": "stdout",
     "output_type": "stream",
     "text": [
      "torch.Size([1, 11, 20, 20, 20])\n"
     ]
    }
   ],
   "source": [
    "data = torch.randn(1, c, d, h, w)   \n",
    "\n",
    "print(data.size())"
   ]
  },
  {
   "cell_type": "markdown",
   "metadata": {},
   "source": [
    "#### Build model using random data"
   ]
  },
  {
   "cell_type": "code",
   "execution_count": 13,
   "metadata": {},
   "outputs": [
    {
     "name": "stdout",
     "output_type": "stream",
     "text": [
      "11 input channels VS 4 output channels\n",
      "Input dimension --> torch.Size([1, 11, 20, 20, 20])\n",
      "Output dimension --> torch.Size([1, 6, 20, 20, 20])\n"
     ]
    }
   ],
   "source": [
    "#invoke the model\n",
    "model = CnnModel()\n",
    "output = model(data)\n",
    "\n",
    "#compare input and output shapes\n",
    "print(\"11 input channels VS 4 output channels\")\n",
    "print(\"Input dimension -->\", data.size())\n",
    "print(\"Output dimension -->\",output.size())"
   ]
  },
  {
   "cell_type": "markdown",
   "metadata": {},
   "source": [
    "#### NOTE: this is how pytorch will check the parameter count\n",
    "- The values pertain to multiplicative sums of 3D kernal and layer dimensions"
   ]
  },
  {
   "cell_type": "code",
   "execution_count": 14,
   "metadata": {},
   "outputs": [
    {
     "name": "stdout",
     "output_type": "stream",
     "text": [
      "total = [14256, 48, 48, 48, 31104, 24, 24, 24, 7776, 12, 12, 12, 1944, 6, 6, 6]\n"
     ]
    }
   ],
   "source": [
    "n_params = [p.numel() for p in model.parameters() if p.requires_grad]\n",
    "print('total =', n_params)"
   ]
  },
  {
   "cell_type": "markdown",
   "metadata": {},
   "source": [
    "#### Notice: Pytorch default behavior\n",
    "- 48 or 48x3 output channels from Conv layer 1\n",
    "- Then 24x3 output chanels for Conv layer 2\n",
    "- The pattern continues for the following Conv layers, but only Conv layer 1 does not get multiplied by dimension."
   ]
  },
  {
   "cell_type": "code",
   "execution_count": null,
   "metadata": {},
   "outputs": [
    {
     "name": "stdout",
     "output_type": "stream",
     "text": [
      "Number of parameters in model 55350\n",
      "Number of parameteres estimated 55350\n"
     ]
    }
   ],
   "source": [
    "# estimate number of parameters\n",
    "est_params = count_parameters(model)\n",
    "n_layer = [11, 48, 24, 12, 6]\n",
    "n_params = 0\n",
    "k_size = 3\n",
    "for i in range(len(n_layer)-1):\n",
    "#     if i < 1:\n",
    "#         n_params += (k_size**3*n_layer[i]+ 1 )*n_layer[i+1]\n",
    "#     else:\n",
    "    n_params += (k_size**3*n_layer[i]+ 3 )*n_layer[i+1]\n",
    "\n",
    "\n",
    "\n",
    "print(\"Number of parameters in model\", n_params)\n",
    "print(\"Number of parameteres estimated\",est_params )   \n",
    "if(est_params != n_params):\n",
    "    print(\"Check ConvNet structure: kernel size, and # of Conv units in each layer\")\n",
    "\n",
    "\n",
    "# #plot output density map\n",
    "# chan_id = 0 # can be 0,1,2,3\n",
    "# channel = output[0,chan_id,:,:,:].detach().numpy()\n",
    "# p = pv.BackgroundPlotter(point_smoothing = True, off_screen=True)\n",
    "# p.add_volume(np.abs(channel), cmap = \"viridis\", opacity = \"linear\")\n",
    "# p.show_bounds()\n",
    "\n",
    "# plotter.show(screenshot='test.png')"
   ]
  },
  {
   "cell_type": "code",
   "execution_count": null,
   "metadata": {},
   "outputs": [],
   "source": []
  },
  {
   "cell_type": "code",
   "execution_count": null,
   "metadata": {},
   "outputs": [],
   "source": []
  },
  {
   "cell_type": "code",
   "execution_count": null,
   "metadata": {},
   "outputs": [],
   "source": []
  }
 ],
 "metadata": {
  "kernelspec": {
   "display_name": "Python 3",
   "language": "python",
   "name": "python3"
  },
  "language_info": {
   "codemirror_mode": {
    "name": "ipython",
    "version": 3
   },
   "file_extension": ".py",
   "mimetype": "text/x-python",
   "name": "python",
   "nbconvert_exporter": "python",
   "pygments_lexer": "ipython3",
   "version": "3.7.3"
  }
 },
 "nbformat": 4,
 "nbformat_minor": 4
}
