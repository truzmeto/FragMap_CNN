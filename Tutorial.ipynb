{
 "cells": [
  {
   "cell_type": "markdown",
   "metadata": {},
   "source": [
    "# FragMap_CNN Tutorial"
   ]
  },
  {
   "cell_type": "markdown",
   "metadata": {},
   "source": [
    "###TODO:\n",
    "Need to prepare a simple tutorial markdown(.md), where we simply demonstrate what is being done here, including all functionalities, visualizations etc. Unit tests have perfect examples. The best way to do this would be using .ipynb and save it as .md file"
   ]
  },
  {
   "cell_type": "markdown",
   "metadata": {},
   "source": [
    "## Objective:\n",
    "Demonstrate functionalities and visualizations using `unit/` directory, which contains python unit tests."
   ]
  },
  {
   "cell_type": "markdown",
   "metadata": {},
   "source": [
    "### Main Requirements:\n",
    "- `pytorch` neural net learning framework\n",
    "- `torchproteinlibrary` lib for handling 3D protein data\n",
    "- `pyvista` for simple unit tests"
   ]
  },
  {
   "cell_type": "code",
   "execution_count": 3,
   "metadata": {},
   "outputs": [],
   "source": [
    "import os\n",
    "import sys\n",
    "import torch.nn as nn\n",
    "import torch.nn.functional as F\n",
    "import torch\n",
    "import numpy as np\n",
    "import pyvista as pv\n",
    "\n",
    "from torchsummary import summary"
   ]
  },
  {
   "cell_type": "code",
   "execution_count": 4,
   "metadata": {},
   "outputs": [],
   "source": [
    "!DISPLAY=localhost:29.0"
   ]
  },
  {
   "cell_type": "code",
   "execution_count": 5,
   "metadata": {},
   "outputs": [
    {
     "name": "stdout",
     "output_type": "stream",
     "text": [
      "\r\n"
     ]
    }
   ],
   "source": [
    "!echo $DISPLAY"
   ]
  },
  {
   "cell_type": "code",
   "execution_count": 6,
   "metadata": {},
   "outputs": [
    {
     "name": "stdout",
     "output_type": "stream",
     "text": [
      "Error: Can't open display: \r\n"
     ]
    }
   ],
   "source": [
    "!xclock"
   ]
  },
  {
   "cell_type": "code",
   "execution_count": 7,
   "metadata": {},
   "outputs": [
    {
     "name": "stdout",
     "output_type": "stream",
     "text": [
      "             JOBID PARTITION     NAME     USER ST       TIME  NODES NODELIST(REASON)\r\n",
      "          76444023      main  jupyter   sb1638  R      10:27      1 pascal001\r\n"
     ]
    }
   ],
   "source": [
    "!squeue -u sb1638"
   ]
  },
  {
   "cell_type": "code",
   "execution_count": 8,
   "metadata": {},
   "outputs": [
    {
     "data": {
      "text/plain": [
       "'Tesla P100-PCIE-16GB'"
      ]
     },
     "execution_count": 8,
     "metadata": {},
     "output_type": "execute_result"
    }
   ],
   "source": [
    "torch.cuda.get_device_name(0)"
   ]
  },
  {
   "cell_type": "code",
   "execution_count": 9,
   "metadata": {},
   "outputs": [
    {
     "name": "stdout",
     "output_type": "stream",
     "text": [
      "# conda environments:\r\n",
      "#\r\n",
      "base                  *  /home/sb1638/anaconda3\r\n",
      "\r\n"
     ]
    }
   ],
   "source": [
    "!conda info --envs"
   ]
  },
  {
   "cell_type": "markdown",
   "metadata": {},
   "source": [
    "### Files"
   ]
  },
  {
   "cell_type": "code",
   "execution_count": 10,
   "metadata": {},
   "outputs": [
    {
     "name": "stdout",
     "output_type": "stream",
     "text": [
      "augment.py  cnn.py  mapIO.py  rot.py  target.py  util.py  volume.py\r\n"
     ]
    }
   ],
   "source": [
    "!ls unit"
   ]
  },
  {
   "cell_type": "markdown",
   "metadata": {},
   "source": [
    "### Step 0: Build the CNN"
   ]
  },
  {
   "cell_type": "markdown",
   "metadata": {},
   "source": [
    "`src/cnn.py` is imported as:\n",
    "```python\n",
    "from src.cnn import CnnModel, count_parameter\n",
    "```\n",
    "This code builds the CNN model using pytorch. "
   ]
  },
  {
   "cell_type": "markdown",
   "metadata": {},
   "source": [
    "Structure:\n",
    "- 4 convolutional layers\n",
    "- Input -> output halved each convolution\n",
    "- E.g. 48 in -> 24 out, 24 in -> 12 out... etc\n",
    "\n",
    "Initialized parameters:\n",
    "\n",
    "- Correct the dimensions of 3D input (pad rectangular boxes to cubic boxes)\n",
    "- 3D CNN input/output channels, kernal size, and padding; per each layer.\n"
   ]
  },
  {
   "cell_type": "markdown",
   "metadata": {},
   "source": [
    "### cnn.py example:"
   ]
  },
  {
   "cell_type": "code",
   "execution_count": 11,
   "metadata": {},
   "outputs": [],
   "source": [
    "from src.cnn import CnnModel, count_parameters"
   ]
  },
  {
   "cell_type": "markdown",
   "metadata": {},
   "source": [
    "#### Initialize 11 input channels and depth, width, height"
   ]
  },
  {
   "cell_type": "code",
   "execution_count": 12,
   "metadata": {},
   "outputs": [
    {
     "data": {
      "text/plain": [
       "<torch._C.Generator at 0x7fb1191ce270>"
      ]
     },
     "execution_count": 12,
     "metadata": {},
     "output_type": "execute_result"
    }
   ],
   "source": [
    "c, d, h, w = 11, 20, 20, 20\n",
    "torch.manual_seed(3000)"
   ]
  },
  {
   "cell_type": "markdown",
   "metadata": {},
   "source": [
    "#### Generate some random data"
   ]
  },
  {
   "cell_type": "code",
   "execution_count": 13,
   "metadata": {},
   "outputs": [
    {
     "name": "stdout",
     "output_type": "stream",
     "text": [
      "torch.Size([1, 11, 20, 20, 20])\n"
     ]
    }
   ],
   "source": [
    "data = torch.randn(1, c, d, h, w)   \n",
    "\n",
    "print(data.size())"
   ]
  },
  {
   "cell_type": "markdown",
   "metadata": {},
   "source": [
    "#### Build model using random data"
   ]
  },
  {
   "cell_type": "code",
   "execution_count": 14,
   "metadata": {},
   "outputs": [
    {
     "name": "stdout",
     "output_type": "stream",
     "text": [
      "11 input channels VS 4 output channels\n",
      "Input dimension --> torch.Size([1, 11, 20, 20, 20])\n",
      "Output dimension --> torch.Size([1, 6, 20, 20, 20])\n"
     ]
    }
   ],
   "source": [
    "#invoke the model\n",
    "model = CnnModel()\n",
    "output = model(data)\n",
    "\n",
    "#compare input and output shapes\n",
    "print(\"11 input channels VS 4 output channels\")\n",
    "print(\"Input dimension -->\", data.size())\n",
    "print(\"Output dimension -->\",output.size())"
   ]
  },
  {
   "cell_type": "markdown",
   "metadata": {},
   "source": [
    "#### NOTE: this is how pytorch will check the parameter count\n",
    "- The values pertain to multiplicative sums of 3D kernal and layer dimensions"
   ]
  },
  {
   "cell_type": "code",
   "execution_count": 15,
   "metadata": {},
   "outputs": [
    {
     "name": "stdout",
     "output_type": "stream",
     "text": [
      "total = [14256, 48, 31104, 24, 24, 24, 7776, 12, 12, 12, 1944, 6, 6, 6]\n"
     ]
    }
   ],
   "source": [
    "n_params = [p.numel() for p in model.parameters() if p.requires_grad]\n",
    "print('total =', n_params)"
   ]
  },
  {
   "cell_type": "markdown",
   "metadata": {},
   "source": [
    "#### Notice: Pytorch default behavior\n",
    "- 48 output channels from Conv layer 1\n",
    "- Then 3 dimensions * 24 output chanels for Conv layer 2\n",
    "- The pattern continues for the following Conv layers, but only Conv layer 1 does not get multiplied by dimension."
   ]
  },
  {
   "cell_type": "code",
   "execution_count": 16,
   "metadata": {},
   "outputs": [],
   "source": [
    "def notebook_show(disp, notebook_url=\"localhost:9999\", port=0):\n",
    "    from panel.viewable import show_server\n",
    "    show_server(disp, notebook_url, port)"
   ]
  },
  {
   "cell_type": "code",
   "execution_count": null,
   "metadata": {},
   "outputs": [
    {
     "name": "stderr",
     "output_type": "stream",
     "text": [
      "ERROR:root:bad X server connection. DISPLAY=\n"
     ]
    }
   ],
   "source": [
    "# estimate number of parameters\n",
    "est_params = count_parameters(model)\n",
    "n_layer = [11, 48, 24, 12, 6]\n",
    "n_params = 0\n",
    "k_size = 3\n",
    "for i in range(len(n_layer)-1):\n",
    "    if i < 1:\n",
    "        n_params += (k_size**3*n_layer[i]+ 1 )*n_layer[i+1]\n",
    "    else:\n",
    "        n_params += (k_size**3*n_layer[i]+ 3 )*n_layer[i+1]\n",
    "\n",
    "\n",
    "\n",
    "print(\"Number of parameters in model\", n_params)\n",
    "print(\"Number of parameteres estimated\",est_params )   \n",
    "if(est_params != n_params):\n",
    "    print(\"Check ConvNet structure: kernel size, and # of Conv units in each layer\")\n",
    "\n",
    "\n",
    "#plot output density map\n",
    "chan_id = 0 # can be 0,1,2,3\n",
    "channel = output[0,chan_id,:,:,:].detach().numpy()\n",
    "p = pv.Plotter(point_smoothing = True)\n",
    "p.add_volume(np.abs(channel), cmap = \"viridis\", opacity = \"linear\")\n",
    "out = p.show()\n",
    "# pv.save_graphic('test','test_title')\n",
    "notebook_show(out)"
   ]
  },
  {
   "cell_type": "code",
   "execution_count": null,
   "metadata": {},
   "outputs": [],
   "source": []
  }
 ],
 "metadata": {
  "kernelspec": {
   "display_name": "Python 3",
   "language": "python",
   "name": "python3"
  },
  "language_info": {
   "codemirror_mode": {
    "name": "ipython",
    "version": 3
   },
   "file_extension": ".py",
   "mimetype": "text/x-python",
   "name": "python",
   "nbconvert_exporter": "python",
   "pygments_lexer": "ipython3",
   "version": "3.7.3"
  }
 },
 "nbformat": 4,
 "nbformat_minor": 4
}
